{
  "nbformat": 4,
  "nbformat_minor": 0,
  "metadata": {
    "colab": {
      "provenance": []
    },
    "kernelspec": {
      "name": "python3",
      "display_name": "Python 3"
    },
    "language_info": {
      "name": "python"
    }
  },
  "cells": [
    {
      "cell_type": "code",
      "execution_count": null,
      "metadata": {
        "id": "h-l8z-UdtJK6"
      },
      "outputs": [],
      "source": []
    },
    {
      "cell_type": "code",
      "source": [],
      "metadata": {
        "id": "URzF3UXctuto"
      },
      "execution_count": null,
      "outputs": []
    },
    {
      "cell_type": "markdown",
      "source": [
        "1.What is Python, and why is it popular?\n",
        "    \n",
        "    >>python is a high programming  languge that is use in many type of software development and make website and many more things.\n",
        "    >>python is very popular because this is easy to learn and this is free python have a wide library. python is use in globaly for many work.\n",
        "\n",
        "2.What is Python, and why is it popular?\n",
        "\n",
        "    >>this is a program that reads exicute code lin by line.\n",
        "\n",
        "3. What are pre-defined keywords in Python?\n",
        "    >> python has own reserved key word that is called pre-define keyword.\n",
        "    \n"
      ],
      "metadata": {
        "id": "VhGRHU2jtwOr"
      }
    },
    {
      "cell_type": "code",
      "source": [
        "import keyword\n",
        "print(keyword.kwlist)"
      ],
      "metadata": {
        "colab": {
          "base_uri": "https://localhost:8080/"
        },
        "id": "qVQAD-A9wdL5",
        "outputId": "935538ad-6fed-4274-aaa2-1f2c27d9a950"
      },
      "execution_count": 1,
      "outputs": [
        {
          "output_type": "stream",
          "name": "stdout",
          "text": [
            "['False', 'None', 'True', 'and', 'as', 'assert', 'async', 'await', 'break', 'class', 'continue', 'def', 'del', 'elif', 'else', 'except', 'finally', 'for', 'from', 'global', 'if', 'import', 'in', 'is', 'lambda', 'nonlocal', 'not', 'or', 'pass', 'raise', 'return', 'try', 'while', 'with', 'yield']\n"
          ]
        }
      ]
    },
    {
      "cell_type": "markdown",
      "source": [
        "4. Can keywords be used as variable names?\n",
        "\n",
        "    >> we can not be used keyword as a variable name because python provoide its own value.\n",
        "example.. if=40 its wrong.\n",
        "\n",
        "5. What is mutability in Python?\n",
        "\n",
        "   >> we can change the element on data type to another data type is called mutable and this process is called mutability.\n",
        "\n",
        "6. Why are lists mutable, but tuples are immutable?\n",
        "\n",
        "   >>lists are made for those situation where we need to change their value over time.we can add, remove\n",
        "   >>tuple are made for those situation where we no need to change their value,tuple is faster then the other type. we can not add, remove.\n",
        "\n",
        "7. What is the difference between “==” and “is” operators in Python?\n",
        "  \n",
        "   >> \"==\" is tell us that the given value are same\n",
        "   a= 100\n",
        "   b=100\n",
        "   a==b\n",
        "   >>\"is\" we check the memory location by the \"is\"\n",
        "   name=\"brijesh\"\n",
        "   'b' is in (name)\n",
        "\n",
        "8. What are logical operators in Python?\n",
        "\n",
        "   >>thi is use for combine conditional statements and gives us a True and False value. it is define by the (and,or,not)\n",
        "example.. a=True\n",
        "          b=False\n",
        "    print(a and b)\n",
        "\n",
        "9. What is type casting in Python?\n",
        "\n",
        "   >>when we are change the value or elements one data type to an other dataa type is called typr casting.\n",
        "example.."
      ],
      "metadata": {
        "id": "4VOu6NM7w1-c"
      }
    },
    {
      "cell_type": "code",
      "source": [
        "a='34'\n",
        "type(a)"
      ],
      "metadata": {
        "colab": {
          "base_uri": "https://localhost:8080/"
        },
        "id": "EkgJNIk_3vkJ",
        "outputId": "771524d6-f6d8-4cfd-8a49-38dde3b01c90"
      },
      "execution_count": 2,
      "outputs": [
        {
          "output_type": "execute_result",
          "data": {
            "text/plain": [
              "str"
            ]
          },
          "metadata": {},
          "execution_count": 2
        }
      ]
    },
    {
      "cell_type": "code",
      "source": [
        "int(a)"
      ],
      "metadata": {
        "colab": {
          "base_uri": "https://localhost:8080/"
        },
        "id": "99uFLycW35uv",
        "outputId": "b147b780-46d3-467f-f29f-0f17df8bc4a6"
      },
      "execution_count": 3,
      "outputs": [
        {
          "output_type": "execute_result",
          "data": {
            "text/plain": [
              "34"
            ]
          },
          "metadata": {},
          "execution_count": 3
        }
      ]
    },
    {
      "cell_type": "markdown",
      "source": [
        "10.What is the difference between implicit and explicit type casting?\n",
        "\n",
        "   >>python is automatically deside the type casting is called implicity.\n",
        "example.. artmatic oprations\n",
        "\n",
        "   >>this type casting is mannualy change some time we have to change to our needs this casting is called explicity type casting.\n",
        "\n",
        "11. What is the purpose of conditional statements in Python?\n",
        "\n",
        "   >>conditionls statements are meine purpose in python to make a decision in your code based certain conditions.\n",
        "\n",
        "12. How does the elif statement work?\n",
        "   >>elif statements are use where we want to multipule condition one after another.\n",
        "\n",
        "\n"
      ],
      "metadata": {
        "id": "kKyGB68DyiYh"
      }
    },
    {
      "cell_type": "code",
      "source": [
        "# Write a Python program to print \"Hello, World!?\n",
        "#answer"
      ],
      "metadata": {
        "id": "LjxwenRT7vMt"
      },
      "execution_count": null,
      "outputs": []
    },
    {
      "cell_type": "code",
      "source": [
        "print(\"Hello, World!\")"
      ],
      "metadata": {
        "colab": {
          "base_uri": "https://localhost:8080/"
        },
        "id": "C_-OmGE873QO",
        "outputId": "b887f6fe-83ea-40d9-a7be-33b073a1b0b3"
      },
      "execution_count": 5,
      "outputs": [
        {
          "output_type": "stream",
          "name": "stdout",
          "text": [
            "Hello, World!\n"
          ]
        }
      ]
    },
    {
      "cell_type": "code",
      "source": [
        "# Write a Python program that displays your name and age?\n",
        "#answer"
      ],
      "metadata": {
        "id": "wqVKRmXb8BqK"
      },
      "execution_count": null,
      "outputs": []
    },
    {
      "cell_type": "code",
      "source": [
        "name=\"Brijesh maurya\"\n",
        "age=24"
      ],
      "metadata": {
        "id": "F5gZBOhZ8VNu"
      },
      "execution_count": 6,
      "outputs": []
    },
    {
      "cell_type": "code",
      "source": [
        "# Write code to print all the pre-defined keywords in Python using the keyword library?\n",
        "#answer"
      ],
      "metadata": {
        "id": "tVhe1V6p8cPD"
      },
      "execution_count": null,
      "outputs": []
    },
    {
      "cell_type": "code",
      "source": [
        "import keyword\n",
        "print(keyword.kwlist)"
      ],
      "metadata": {
        "colab": {
          "base_uri": "https://localhost:8080/"
        },
        "id": "IwgDhu2x8p3A",
        "outputId": "2a4446e4-9c7e-481e-bb96-c783a92ed5e0"
      },
      "execution_count": 7,
      "outputs": [
        {
          "output_type": "stream",
          "name": "stdout",
          "text": [
            "['False', 'None', 'True', 'and', 'as', 'assert', 'async', 'await', 'break', 'class', 'continue', 'def', 'del', 'elif', 'else', 'except', 'finally', 'for', 'from', 'global', 'if', 'import', 'in', 'is', 'lambda', 'nonlocal', 'not', 'or', 'pass', 'raise', 'return', 'try', 'while', 'with', 'yield']\n"
          ]
        }
      ]
    },
    {
      "cell_type": "code",
      "source": [
        "# Write a program that checks if a given word is a Python keyword?\n",
        "#answer"
      ],
      "metadata": {
        "id": "nnZ2ZLdN9Ws5"
      },
      "execution_count": null,
      "outputs": []
    },
    {
      "cell_type": "code",
      "source": [
        "Enter a number: for\n",
        "\"for\" is a python keyword"
      ],
      "metadata": {
        "id": "--prJwoA9e6Y"
      },
      "execution_count": null,
      "outputs": []
    },
    {
      "cell_type": "code",
      "source": [
        "#5. Create a list and tuple in Python, and demonstrate how attempting to change an element works differently for each\n",
        "#answer\n",
        "#list"
      ],
      "metadata": {
        "id": "vvkr_XYP9yzL"
      },
      "execution_count": null,
      "outputs": []
    },
    {
      "cell_type": "code",
      "source": [
        "number=[1,2,3,4.5,6+6j]"
      ],
      "metadata": {
        "id": "rCVbqFxp-x8-"
      },
      "execution_count": 9,
      "outputs": []
    },
    {
      "cell_type": "code",
      "source": [
        "number[0]=45"
      ],
      "metadata": {
        "id": "kKzwXMFD-5AW"
      },
      "execution_count": 11,
      "outputs": []
    },
    {
      "cell_type": "code",
      "source": [
        "print(number)"
      ],
      "metadata": {
        "colab": {
          "base_uri": "https://localhost:8080/"
        },
        "id": "vXlu7PhS_B24",
        "outputId": "99474c20-8252-42db-ee8d-522248c1bdd2"
      },
      "execution_count": 12,
      "outputs": [
        {
          "output_type": "stream",
          "name": "stdout",
          "text": [
            "[45, 2, 3, 4.5, (6+6j)]\n"
          ]
        }
      ]
    },
    {
      "cell_type": "code",
      "source": [
        "#tuple\n"
      ],
      "metadata": {
        "id": "WUSEin9L_Njl"
      },
      "execution_count": null,
      "outputs": []
    },
    {
      "cell_type": "code",
      "source": [
        "fruits=(\"mango\",\"banana\",\"orangr\",\"graps\")"
      ],
      "metadata": {
        "id": "i9Fk_bBW_Ue4"
      },
      "execution_count": 14,
      "outputs": []
    },
    {
      "cell_type": "code",
      "source": [
        "#we can not change elements because tupl is immutable"
      ],
      "metadata": {
        "id": "hBCNbECb_mEF"
      },
      "execution_count": null,
      "outputs": []
    },
    {
      "cell_type": "code",
      "source": [
        "#6. Write a function to demonstrate the behavior of mutable and immutable arguments?"
      ],
      "metadata": {
        "id": "0opsrSs8ArpL"
      },
      "execution_count": null,
      "outputs": []
    },
    {
      "cell_type": "code",
      "source": [
        "#mutable\n",
        "numbers=[4,5,6,8,6,3,5]"
      ],
      "metadata": {
        "id": "f1qJTJb_A34Z"
      },
      "execution_count": 18,
      "outputs": []
    },
    {
      "cell_type": "code",
      "source": [
        "numbers[4]=654"
      ],
      "metadata": {
        "id": "7XYcQTzCBG2a"
      },
      "execution_count": 20,
      "outputs": []
    },
    {
      "cell_type": "code",
      "source": [
        "numbers"
      ],
      "metadata": {
        "colab": {
          "base_uri": "https://localhost:8080/"
        },
        "id": "l1VcgGL4BTpf",
        "outputId": "878e95af-f3b6-4da2-8a85-70dd2963b3dc"
      },
      "execution_count": 21,
      "outputs": [
        {
          "output_type": "execute_result",
          "data": {
            "text/plain": [
              "[4, 5, 6, 8, 654, 3, 5]"
            ]
          },
          "metadata": {},
          "execution_count": 21
        }
      ]
    },
    {
      "cell_type": "code",
      "source": [
        "#immutable\n",
        "fruits=(\"watermilon\",\"nasoati\",\"mango\")\n"
      ],
      "metadata": {
        "id": "C7VPTPPiB0Nh"
      },
      "execution_count": 23,
      "outputs": []
    },
    {
      "cell_type": "code",
      "source": [
        "fruits[\"mango\"]=\"orange\""
      ],
      "metadata": {
        "colab": {
          "base_uri": "https://localhost:8080/",
          "height": 141
        },
        "id": "_trwYUZVCQlE",
        "outputId": "71a803e9-b69b-4d10-b639-c6d8c653d454"
      },
      "execution_count": 24,
      "outputs": [
        {
          "output_type": "error",
          "ename": "TypeError",
          "evalue": "'tuple' object does not support item assignment",
          "traceback": [
            "\u001b[0;31m---------------------------------------------------------------------------\u001b[0m",
            "\u001b[0;31mTypeError\u001b[0m                                 Traceback (most recent call last)",
            "\u001b[0;32m/tmp/ipython-input-24-272341347.py\u001b[0m in \u001b[0;36m<cell line: 0>\u001b[0;34m()\u001b[0m\n\u001b[0;32m----> 1\u001b[0;31m \u001b[0mfruits\u001b[0m\u001b[0;34m[\u001b[0m\u001b[0;34m\"mango\"\u001b[0m\u001b[0;34m]\u001b[0m\u001b[0;34m=\u001b[0m\u001b[0;34m\"orange\"\u001b[0m\u001b[0;34m\u001b[0m\u001b[0;34m\u001b[0m\u001b[0m\n\u001b[0m",
            "\u001b[0;31mTypeError\u001b[0m: 'tuple' object does not support item assignment"
          ]
        }
      ]
    },
    {
      "cell_type": "code",
      "source": [
        "#7. Write a program that performs basic arithmetic operations on two user-input numbers?"
      ],
      "metadata": {
        "id": "rUsmxym9CqxK"
      },
      "execution_count": null,
      "outputs": []
    },
    {
      "cell_type": "code",
      "source": [
        "num1=float(input(\"Enter first number:\"))\n",
        "num2=float(input(\"Enter second number:\"))\n",
        "\n",
        "print(\"addition:\",num1+num2)\n",
        "print(\"substraction:\",num1-num2)\n",
        "print(\"multplication:\",num1*num2)\n",
        "\n",
        "if num2!=0:\n",
        "  print(\"division:\",num1/num2)\n",
        "  print(\"modulus:\",num1%num2)\n",
        "else:\n",
        "  print(\"division and modulas is not possible\")\n"
      ],
      "metadata": {
        "colab": {
          "base_uri": "https://localhost:8080/"
        },
        "id": "9xvQdvOJCoNO",
        "outputId": "9ba59a14-fff5-40c5-d13f-304e4dcbbd11"
      },
      "execution_count": 27,
      "outputs": [
        {
          "output_type": "stream",
          "name": "stdout",
          "text": [
            "Enter first number:10\n",
            "Enter second number:2\n",
            "addition: 12.0\n",
            "substraction: 8.0\n",
            "multplication: 20.0\n",
            "division: 5.0\n",
            "modulus: 0.0\n"
          ]
        }
      ]
    },
    {
      "cell_type": "code",
      "source": [
        "#8. Write a program to demonstrate the use of logical operators?\n",
        "#answer\n",
        "a=True\n",
        "b=False\n",
        "print(a and b)"
      ],
      "metadata": {
        "colab": {
          "base_uri": "https://localhost:8080/"
        },
        "id": "ztVCsyPDEY3I",
        "outputId": "f67f101a-964f-4057-8cfd-5c80501d2865"
      },
      "execution_count": 28,
      "outputs": [
        {
          "output_type": "stream",
          "name": "stdout",
          "text": [
            "False\n"
          ]
        }
      ]
    },
    {
      "cell_type": "code",
      "source": [
        "print(a or b)"
      ],
      "metadata": {
        "colab": {
          "base_uri": "https://localhost:8080/"
        },
        "id": "DFP0JNZmF7Hb",
        "outputId": "c2db1e35-adfd-4b55-97fe-add57f189565"
      },
      "execution_count": 29,
      "outputs": [
        {
          "output_type": "stream",
          "name": "stdout",
          "text": [
            "True\n"
          ]
        }
      ]
    },
    {
      "cell_type": "code",
      "source": [
        "#9. Write a Python program to convert user input from string to integer, float, and boolean types?\n",
        "a='20'"
      ],
      "metadata": {
        "id": "g9pmR1TiGAMQ"
      },
      "execution_count": 31,
      "outputs": []
    },
    {
      "cell_type": "code",
      "source": [
        "type(a)"
      ],
      "metadata": {
        "colab": {
          "base_uri": "https://localhost:8080/"
        },
        "id": "6l6nUhukGQIF",
        "outputId": "868f49bb-9bd3-4529-f5b4-54e5984843ea"
      },
      "execution_count": 32,
      "outputs": [
        {
          "output_type": "execute_result",
          "data": {
            "text/plain": [
              "str"
            ]
          },
          "metadata": {},
          "execution_count": 32
        }
      ]
    },
    {
      "cell_type": "code",
      "source": [
        "int(a)"
      ],
      "metadata": {
        "colab": {
          "base_uri": "https://localhost:8080/"
        },
        "id": "2HeplXKQGURp",
        "outputId": "0a156f75-757f-40d1-e80d-8b03c4731ca1"
      },
      "execution_count": 33,
      "outputs": [
        {
          "output_type": "execute_result",
          "data": {
            "text/plain": [
              "20"
            ]
          },
          "metadata": {},
          "execution_count": 33
        }
      ]
    },
    {
      "cell_type": "code",
      "source": [
        "type(20)"
      ],
      "metadata": {
        "colab": {
          "base_uri": "https://localhost:8080/"
        },
        "id": "X7lLkgyeGZKb",
        "outputId": "06386a75-6d7a-4d1b-a878-0f12be275495"
      },
      "execution_count": 35,
      "outputs": [
        {
          "output_type": "execute_result",
          "data": {
            "text/plain": [
              "int"
            ]
          },
          "metadata": {},
          "execution_count": 35
        }
      ]
    },
    {
      "cell_type": "code",
      "source": [
        "float(a)"
      ],
      "metadata": {
        "colab": {
          "base_uri": "https://localhost:8080/"
        },
        "id": "ycc1V5QyGhPS",
        "outputId": "dd5d75e6-4dbe-4391-ada1-2a2c7f0a8feb"
      },
      "execution_count": 36,
      "outputs": [
        {
          "output_type": "execute_result",
          "data": {
            "text/plain": [
              "20.0"
            ]
          },
          "metadata": {},
          "execution_count": 36
        }
      ]
    },
    {
      "cell_type": "code",
      "source": [
        "type(20.0)"
      ],
      "metadata": {
        "colab": {
          "base_uri": "https://localhost:8080/"
        },
        "id": "VACsFEYlGpxk",
        "outputId": "19423d8e-f278-4bb3-c5d7-effface3098f"
      },
      "execution_count": 37,
      "outputs": [
        {
          "output_type": "execute_result",
          "data": {
            "text/plain": [
              "float"
            ]
          },
          "metadata": {},
          "execution_count": 37
        }
      ]
    },
    {
      "cell_type": "code",
      "source": [
        "bool(a)"
      ],
      "metadata": {
        "colab": {
          "base_uri": "https://localhost:8080/"
        },
        "id": "-h-HY3w3GtMb",
        "outputId": "278d3f38-0de1-4c0d-fce0-19d1f38455ad"
      },
      "execution_count": 38,
      "outputs": [
        {
          "output_type": "execute_result",
          "data": {
            "text/plain": [
              "True"
            ]
          },
          "metadata": {},
          "execution_count": 38
        }
      ]
    },
    {
      "cell_type": "code",
      "source": [
        "# 12. Write a for loop to print numbers from 1 to 10."
      ],
      "metadata": {
        "id": "KivY_VxxHrYe"
      },
      "execution_count": null,
      "outputs": []
    },
    {
      "cell_type": "code",
      "source": [
        "number=1\n",
        "\n",
        "while number<=10:\n",
        "  print(number)\n",
        "  number+=1"
      ],
      "metadata": {
        "colab": {
          "base_uri": "https://localhost:8080/"
        },
        "id": "VHY_OoWcIbQH",
        "outputId": "2a4f8893-9b67-46fc-b6da-79eb8a5585f4"
      },
      "execution_count": 41,
      "outputs": [
        {
          "output_type": "stream",
          "name": "stdout",
          "text": [
            "1\n",
            "2\n",
            "3\n",
            "4\n",
            "5\n",
            "6\n",
            "7\n",
            "8\n",
            "9\n",
            "10\n"
          ]
        }
      ]
    },
    {
      "cell_type": "code",
      "source": [],
      "metadata": {
        "id": "3KB43YlbIr6j"
      },
      "execution_count": null,
      "outputs": []
    },
    {
      "cell_type": "code",
      "source": [],
      "metadata": {
        "id": "QnBdhBXZIqW5"
      },
      "execution_count": null,
      "outputs": []
    }
  ]
}